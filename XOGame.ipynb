{
  "nbformat": 4,
  "nbformat_minor": 0,
  "metadata": {
    "colab": {
      "provenance": [],
      "authorship_tag": "ABX9TyPSxg4Kp3HbdcRZRNiV4Z/3",
      "include_colab_link": true
    },
    "kernelspec": {
      "name": "python3",
      "display_name": "Python 3"
    },
    "language_info": {
      "name": "python"
    }
  },
  "cells": [
    {
      "cell_type": "markdown",
      "metadata": {
        "id": "view-in-github",
        "colab_type": "text"
      },
      "source": [
        "<a href=\"https://colab.research.google.com/github/aminEsmailzadeh/Web/blob/main/XOGame.ipynb\" target=\"_parent\"><img src=\"https://colab.research.google.com/assets/colab-badge.svg\" alt=\"Open In Colab\"/></a>"
      ]
    },
    {
      "cell_type": "code",
      "execution_count": 1,
      "metadata": {
        "colab": {
          "base_uri": "https://localhost:8080/"
        },
        "id": "gTMhOoBFbsgO",
        "outputId": "93d46163-0ca1-42b1-e1de-b86fd6855659"
      },
      "outputs": [
        {
          "output_type": "stream",
          "name": "stdout",
          "text": [
            "  |   |  \n",
            "---------\n",
            "  |   |  \n",
            "---------\n",
            "  |   |  \n",
            "---------\n",
            "Player X's turn.\n",
            "Enter the row (0-2): 1\n",
            "Enter the column (0-2): 1\n",
            "  |   |  \n",
            "---------\n",
            "  | X |  \n",
            "---------\n",
            "  |   |  \n",
            "---------\n",
            "Player O's turn.\n",
            "Enter the row (0-2): 1\n",
            "Enter the column (0-2): 1\n",
            "Invalid move. Try again.\n",
            "  |   |  \n",
            "---------\n",
            "  | X |  \n",
            "---------\n",
            "  |   |  \n",
            "---------\n",
            "Player O's turn.\n",
            "Enter the row (0-2): 0\n",
            "Enter the column (0-2): 0\n",
            "O |   |  \n",
            "---------\n",
            "  | X |  \n",
            "---------\n",
            "  |   |  \n",
            "---------\n",
            "Player X's turn.\n",
            "Enter the row (0-2): 0\n",
            "Enter the column (0-2): 2\n",
            "O |   | X\n",
            "---------\n",
            "  | X |  \n",
            "---------\n",
            "  |   |  \n",
            "---------\n",
            "Player O's turn.\n",
            "Enter the row (0-2): 1\n",
            "Enter the column (0-2): 0\n",
            "O |   | X\n",
            "---------\n",
            "O | X |  \n",
            "---------\n",
            "  |   |  \n",
            "---------\n",
            "Player X's turn.\n",
            "Enter the row (0-2): 2\n",
            "Enter the column (0-2): 0\n",
            "O |   | X\n",
            "---------\n",
            "O | X |  \n",
            "---------\n",
            "X |   |  \n",
            "---------\n",
            "Player X wins!\n"
          ]
        }
      ],
      "source": [
        "# Function to display the TikTok board\n",
        "def display_board(board):\n",
        "    for row in board:\n",
        "        print(\" | \".join(row))\n",
        "        print(\"-\" * 9)\n",
        "\n",
        "# Function to check if a player has won\n",
        "def check_win(board, player):\n",
        "    for i in range(3):\n",
        "        if board[i][0] == board[i][1] == board[i][2] == player:\n",
        "            return True\n",
        "        if board[0][i] == board[1][i] == board[2][i] == player:\n",
        "            return True\n",
        "    if board[0][0] == board[1][1] == board[2][2] == player or board[0][2] == board[1][1] == board[2][0] == player:\n",
        "        return True\n",
        "    return False\n",
        "\n",
        "# Function to play the TikTok game\n",
        "def play_game():\n",
        "    board = [[\" \", \" \", \" \"], [\" \", \" \", \" \"], [\" \", \" \", \" \"]]\n",
        "    current_player = \"X\"\n",
        "    game_over = False\n",
        "\n",
        "    while not game_over:\n",
        "        display_board(board)\n",
        "        print(f\"Player {current_player}'s turn.\")\n",
        "        row = int(input(\"Enter the row (0-2): \"))\n",
        "        col = int(input(\"Enter the column (0-2): \"))\n",
        "\n",
        "        if board[row][col] == \" \":\n",
        "            board[row][col] = current_player\n",
        "            if check_win(board, current_player):\n",
        "                display_board(board)\n",
        "                print(f\"Player {current_player} wins!\")\n",
        "                game_over = True\n",
        "            elif all(board[i][j] != \" \" for i in range(3) for j in range(3)):\n",
        "                display_board(board)\n",
        "                print(\"It's a tie!\")\n",
        "                game_over = True\n",
        "            else:\n",
        "                current_player = \"O\" if current_player == \"X\" else \"X\"\n",
        "        else:\n",
        "            print(\"Invalid move. Try again.\")\n",
        "\n",
        "# Start the game\n",
        "play_game()"
      ]
    }
  ]
}